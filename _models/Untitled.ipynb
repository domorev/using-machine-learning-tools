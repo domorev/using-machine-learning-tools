{
 "cells": [
  {
   "cell_type": "code",
   "execution_count": null,
   "id": "5e9e9ca3-789f-48aa-8fa4-33afd9b95f42",
   "metadata": {},
   "outputs": [],
   "source": []
  }
 ],
 "metadata": {
  "kernelspec": {
   "display_name": "bcg_env",
   "language": "python",
   "name": "bcg_env"
  },
  "language_info": {
   "codemirror_mode": {
    "name": "ipython",
    "version": 3
   },
   "file_extension": ".py",
   "mimetype": "text/x-python",
   "name": "python",
   "nbconvert_exporter": "python",
   "pygments_lexer": "ipython3",
   "version": "3.11.4"
  }
 },
 "nbformat": 4,
 "nbformat_minor": 5
}
